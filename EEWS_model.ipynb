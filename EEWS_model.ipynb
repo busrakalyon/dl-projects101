{
  "nbformat": 4,
  "nbformat_minor": 0,
  "metadata": {
    "colab": {
      "provenance": [],
      "gpuType": "T4",
      "authorship_tag": "ABX9TyMQ+nU/3mWG4zjt5n3lz24A"
    },
    "kernelspec": {
      "name": "python3",
      "display_name": "Python 3"
    },
    "language_info": {
      "name": "python"
    },
    "accelerator": "GPU"
  },
  "cells": [
    {
      "cell_type": "code",
      "execution_count": null,
      "metadata": {
        "id": "sG62djl8gEie"
      },
      "outputs": [],
      "source": [
        "import torch\n",
        "import os\n",
        "import torch.nn as nn\n",
        "from torch.utils.data import Dataset, DataLoader\n",
        "import pandas as pd\n",
        "import numpy as np\n",
        "from sklearn.model_selection import train_test_split\n",
        "from tqdm import tqdm"
      ]
    },
    {
      "cell_type": "code",
      "source": [
        "from google.colab import drive\n",
        "drive.mount('/content/drive')"
      ],
      "metadata": {
        "colab": {
          "base_uri": "https://localhost:8080/"
        },
        "id": "tmgIBWcnkEDW",
        "outputId": "1ee0db5f-3a6f-4354-80f3-469b022fcad5"
      },
      "execution_count": null,
      "outputs": [
        {
          "output_type": "stream",
          "name": "stdout",
          "text": [
            "Drive already mounted at /content/drive; to attempt to forcibly remount, call drive.mount(\"/content/drive\", force_remount=True).\n"
          ]
        }
      ]
    },
    {
      "cell_type": "code",
      "source": [
        "# Sabitler\n",
        "BATCH_SIZE = 32\n",
        "NUM_EPOCHS = 20"
      ],
      "metadata": {
        "id": "N0To8DeLi6iW"
      },
      "execution_count": null,
      "outputs": []
    },
    {
      "cell_type": "code",
      "source": [
        "# Dosya yolları\n",
        "train_path = \"/content/drive/MyDrive/ColabNotebooks/train_data.pt\"\n",
        "test_path = \"/content/drive/MyDrive/ColabNotebooks/test_data.pt\"\n",
        "\n",
        "# Yükle\n",
        "if os.path.exists(train_path) and os.path.exists(test_path):\n",
        "    train_data, train_labels = torch.load(train_path, weights_only=False)\n",
        "    test_data, test_labels = torch.load(test_path, weights_only=False)\n",
        "    print(\"Veriler başarıyla yüklendi.\")\n",
        "else:\n",
        "    print(\"Dosyalar bulunamadı.\")"
      ],
      "metadata": {
        "colab": {
          "base_uri": "https://localhost:8080/"
        },
        "id": "rYkOlH3dgzcZ",
        "outputId": "28857456-370b-401f-909a-79c3448d06e9"
      },
      "execution_count": null,
      "outputs": [
        {
          "output_type": "stream",
          "name": "stdout",
          "text": [
            "Veriler başarıyla yüklendi.\n"
          ]
        }
      ]
    },
    {
      "cell_type": "code",
      "source": [
        "class WaveDataset(Dataset):\n",
        "    # Veriyi alır ve saklar\n",
        "    def __init__(self, waveforms, labels):\n",
        "        self.waveforms = waveforms\n",
        "        self.labels = labels\n",
        "\n",
        "    # Veri setinin kaç örnek içerdiğini döner\n",
        "    def __len__(self):\n",
        "        return len(self.labels)\n",
        "\n",
        "    # Belirli bir örneği işler ve döner\n",
        "    def __getitem__(self, idx):\n",
        "        waveform = self.waveforms[idx]\n",
        "        label = self.labels[idx]\n",
        "\n",
        "        # Z-score normalize\n",
        "        waveform = (waveform - np.mean(waveform)) / (np.std(waveform) + 1e-8)\n",
        "\n",
        "        # PyTorch tensor\n",
        "        waveform_tensor = torch.tensor(waveform.T, dtype=torch.float32)\n",
        "        label_tensor = torch.tensor(label, dtype=torch.float32)  # Binary classification\n",
        "\n",
        "        return waveform_tensor, label_tensor\n"
      ],
      "metadata": {
        "id": "C8jxZepbhGHu"
      },
      "execution_count": null,
      "outputs": []
    },
    {
      "cell_type": "code",
      "source": [
        "# Datasetler\n",
        "train_dataset = WaveDataset(train_data, train_labels)\n",
        "test_dataset = WaveDataset(test_data, test_labels)\n",
        "\n",
        "# DataLoader\n",
        "train_loader = DataLoader(train_dataset, batch_size=BATCH_SIZE, shuffle=True)\n",
        "test_loader = DataLoader(test_dataset, batch_size=BATCH_SIZE, shuffle=False)"
      ],
      "metadata": {
        "id": "FSXXAlifif49"
      },
      "execution_count": null,
      "outputs": []
    },
    {
      "cell_type": "code",
      "source": [
        "class PDetectionCNN(nn.Module):\n",
        "    def __init__(self):\n",
        "        super(PDetectionCNN, self).__init__()\n",
        "        self.conv1 = nn.Conv1d(in_channels=3,  out_channels=16, kernel_size=7, padding=3)\n",
        "        self.pool = nn.MaxPool1d(2)\n",
        "        self.conv2 = nn.Conv1d(16, 32, kernel_size=5, padding=2)\n",
        "        self.fc1 = nn.Linear(32*100, 64)  # window_size=400 için\n",
        "        self.fc2 = nn.Linear(64, 1)\n",
        "\n",
        "    def forward(self, x):\n",
        "        x = self.pool(F.relu(self.conv1(x)))\n",
        "        x = self.pool(F.relu(self.conv2(x)))\n",
        "        x = x.view(x.size(0), -1)\n",
        "        x = F.relu(self.fc1(x))\n",
        "        x = torch.sigmoid(self.fc2(x))\n",
        "        return x"
      ],
      "metadata": {
        "id": "AG321tY4jSFq"
      },
      "execution_count": null,
      "outputs": []
    },
    {
      "cell_type": "code",
      "source": [
        "device = torch.device(\"cuda\" if torch.cuda.is_available() else \"cpu\")\n",
        "print(\"Kullanılan cihaz:\", device)"
      ],
      "metadata": {
        "colab": {
          "base_uri": "https://localhost:8080/"
        },
        "id": "hfD8myHzjlny",
        "outputId": "876be59f-2982-4f86-da4d-ce48c1417ccf"
      },
      "execution_count": null,
      "outputs": [
        {
          "output_type": "stream",
          "name": "stdout",
          "text": [
            "Kullanılan cihaz: cuda\n"
          ]
        }
      ]
    },
    {
      "cell_type": "code",
      "source": [
        "model = PDetectionCNN().to(device)\n",
        "criterion = nn.BCELoss()  # binary classification\n",
        "optimizer = torch.optim.Adam(model.parameters(), lr=0.001)"
      ],
      "metadata": {
        "id": "l9Zk6kSJjWP3"
      },
      "execution_count": null,
      "outputs": []
    },
    {
      "cell_type": "code",
      "source": [
        "def evaluate_model(model, test_loader, criterion, device):\n",
        "    model.eval()\n",
        "    total_loss = 0.0\n",
        "    correct = 0\n",
        "    total = 0\n",
        "\n",
        "    with torch.no_grad():\n",
        "        for waveforms, labels in test_loader:\n",
        "            waveforms, labels = waveforms.to(device), labels.to(device).unsqueeze(1)\n",
        "            outputs = model(waveforms)\n",
        "            loss = criterion(outputs, labels)\n",
        "            total_loss += loss.item()\n",
        "\n",
        "            # Accuracy hesaplama\n",
        "            predicted = (outputs > 0.5).float()\n",
        "            total += labels.size(0)\n",
        "            correct += (predicted == labels).sum().item()\n",
        "\n",
        "    avg_loss = total_loss / len(test_loader)\n",
        "    accuracy = 100 * correct / total\n",
        "    return avg_loss, accuracy\n",
        "\n",
        "\n"
      ],
      "metadata": {
        "id": "V0AV_aONjYVo"
      },
      "execution_count": null,
      "outputs": []
    },
    {
      "cell_type": "code",
      "source": [
        "for epoch in range(NUM_EPOCHS):\n",
        "    model.train()\n",
        "    running_loss = 0.0\n",
        "    train_correct = 0\n",
        "    train_total = 0\n",
        "\n",
        "    # Training loop with tqdm\n",
        "    train_pbar = tqdm(train_loader, desc=f'Epoch {epoch+1}/{NUM_EPOCHS} [Train]')\n",
        "    for waveforms, labels in train_pbar:\n",
        "        waveforms, labels = waveforms.to(device), labels.to(device).unsqueeze(1)\n",
        "        optimizer.zero_grad()\n",
        "        outputs = model(waveforms)\n",
        "        loss = criterion(outputs, labels)\n",
        "        loss.backward()\n",
        "        optimizer.step()\n",
        "        running_loss += loss.item()\n",
        "\n",
        "        # Training accuracy\n",
        "        predicted = (outputs > 0.5).float()\n",
        "        train_total += labels.size(0)\n",
        "        train_correct += (predicted == labels).sum().item()\n",
        "\n",
        "        # Update progress bar\n",
        "        train_pbar.set_postfix({\n",
        "            'Loss': f'{loss.item():.4f}',\n",
        "            'Acc': f'{100 * train_correct / train_total:.2f}%'\n",
        "        })\n",
        "\n",
        "    # Validation\n",
        "    val_loss, val_acc = evaluate_model(model, test_loader, criterion, device)\n",
        "    train_loss = running_loss / len(train_loader)\n",
        "    train_acc = 100 * train_correct / train_total\n",
        "\n",
        "    print(f\"Epoch {epoch+1}/{NUM_EPOCHS} - Train Loss: {train_loss:.4f}, Train Acc: {train_acc:.2f}%, Val Loss: {val_loss:.4f}, Val Acc: {val_acc:.2f}%\")"
      ],
      "metadata": {
        "colab": {
          "base_uri": "https://localhost:8080/"
        },
        "id": "uZdkYXJokVWR",
        "outputId": "41d4fa7c-cbdb-4448-bf2c-4c99faac93a0"
      },
      "execution_count": null,
      "outputs": [
        {
          "output_type": "stream",
          "name": "stderr",
          "text": [
            "Epoch 1/20 [Train]: 100%|██████████| 200/200 [00:01<00:00, 135.84it/s, Loss=0.3511, Acc=78.19%]\n"
          ]
        },
        {
          "output_type": "stream",
          "name": "stdout",
          "text": [
            "Epoch 1/20 - Train Loss: 0.4498, Train Acc: 78.19%, Val Loss: 0.3629, Val Acc: 85.25%\n"
          ]
        },
        {
          "output_type": "stream",
          "name": "stderr",
          "text": [
            "Epoch 2/20 [Train]: 100%|██████████| 200/200 [00:01<00:00, 102.46it/s, Loss=0.1637, Acc=86.77%]\n"
          ]
        },
        {
          "output_type": "stream",
          "name": "stdout",
          "text": [
            "Epoch 2/20 - Train Loss: 0.3092, Train Acc: 86.77%, Val Loss: 0.3007, Val Acc: 87.62%\n"
          ]
        },
        {
          "output_type": "stream",
          "name": "stderr",
          "text": [
            "Epoch 3/20 [Train]: 100%|██████████| 200/200 [00:01<00:00, 139.60it/s, Loss=0.2279, Acc=90.27%]\n"
          ]
        },
        {
          "output_type": "stream",
          "name": "stdout",
          "text": [
            "Epoch 3/20 - Train Loss: 0.2274, Train Acc: 90.27%, Val Loss: 0.2928, Val Acc: 87.69%\n"
          ]
        },
        {
          "output_type": "stream",
          "name": "stderr",
          "text": [
            "Epoch 4/20 [Train]: 100%|██████████| 200/200 [00:01<00:00, 135.61it/s, Loss=0.1622, Acc=93.67%]\n"
          ]
        },
        {
          "output_type": "stream",
          "name": "stdout",
          "text": [
            "Epoch 4/20 - Train Loss: 0.1590, Train Acc: 93.67%, Val Loss: 0.2617, Val Acc: 89.69%\n"
          ]
        },
        {
          "output_type": "stream",
          "name": "stderr",
          "text": [
            "Epoch 5/20 [Train]: 100%|██████████| 200/200 [00:01<00:00, 137.88it/s, Loss=0.0322, Acc=95.75%]\n"
          ]
        },
        {
          "output_type": "stream",
          "name": "stdout",
          "text": [
            "Epoch 5/20 - Train Loss: 0.1094, Train Acc: 95.75%, Val Loss: 0.2444, Val Acc: 90.38%\n"
          ]
        },
        {
          "output_type": "stream",
          "name": "stderr",
          "text": [
            "Epoch 6/20 [Train]: 100%|██████████| 200/200 [00:01<00:00, 113.41it/s, Loss=0.0724, Acc=97.34%]\n"
          ]
        },
        {
          "output_type": "stream",
          "name": "stdout",
          "text": [
            "Epoch 6/20 - Train Loss: 0.0778, Train Acc: 97.34%, Val Loss: 0.2607, Val Acc: 90.06%\n"
          ]
        },
        {
          "output_type": "stream",
          "name": "stderr",
          "text": [
            "Epoch 7/20 [Train]: 100%|██████████| 200/200 [00:01<00:00, 109.03it/s, Loss=0.0395, Acc=98.55%]\n"
          ]
        },
        {
          "output_type": "stream",
          "name": "stdout",
          "text": [
            "Epoch 7/20 - Train Loss: 0.0521, Train Acc: 98.55%, Val Loss: 0.2946, Val Acc: 90.44%\n"
          ]
        },
        {
          "output_type": "stream",
          "name": "stderr",
          "text": [
            "Epoch 8/20 [Train]: 100%|██████████| 200/200 [00:01<00:00, 132.50it/s, Loss=0.0081, Acc=99.25%]\n"
          ]
        },
        {
          "output_type": "stream",
          "name": "stdout",
          "text": [
            "Epoch 8/20 - Train Loss: 0.0279, Train Acc: 99.25%, Val Loss: 0.3025, Val Acc: 90.06%\n"
          ]
        },
        {
          "output_type": "stream",
          "name": "stderr",
          "text": [
            "Epoch 9/20 [Train]: 100%|██████████| 200/200 [00:01<00:00, 134.38it/s, Loss=0.0076, Acc=99.89%]\n"
          ]
        },
        {
          "output_type": "stream",
          "name": "stdout",
          "text": [
            "Epoch 9/20 - Train Loss: 0.0130, Train Acc: 99.89%, Val Loss: 0.3529, Val Acc: 90.12%\n"
          ]
        },
        {
          "output_type": "stream",
          "name": "stderr",
          "text": [
            "Epoch 10/20 [Train]: 100%|██████████| 200/200 [00:01<00:00, 134.01it/s, Loss=0.0201, Acc=99.95%]\n"
          ]
        },
        {
          "output_type": "stream",
          "name": "stdout",
          "text": [
            "Epoch 10/20 - Train Loss: 0.0070, Train Acc: 99.95%, Val Loss: 0.3629, Val Acc: 90.88%\n"
          ]
        },
        {
          "output_type": "stream",
          "name": "stderr",
          "text": [
            "Epoch 11/20 [Train]: 100%|██████████| 200/200 [00:01<00:00, 134.96it/s, Loss=0.0092, Acc=100.00%]\n"
          ]
        },
        {
          "output_type": "stream",
          "name": "stdout",
          "text": [
            "Epoch 11/20 - Train Loss: 0.0047, Train Acc: 100.00%, Val Loss: 0.3851, Val Acc: 90.50%\n"
          ]
        },
        {
          "output_type": "stream",
          "name": "stderr",
          "text": [
            "Epoch 12/20 [Train]: 100%|██████████| 200/200 [00:01<00:00, 136.71it/s, Loss=0.0017, Acc=100.00%]\n"
          ]
        },
        {
          "output_type": "stream",
          "name": "stdout",
          "text": [
            "Epoch 12/20 - Train Loss: 0.0037, Train Acc: 100.00%, Val Loss: 0.4478, Val Acc: 90.81%\n"
          ]
        },
        {
          "output_type": "stream",
          "name": "stderr",
          "text": [
            "Epoch 13/20 [Train]: 100%|██████████| 200/200 [00:01<00:00, 133.76it/s, Loss=0.0008, Acc=100.00%]\n"
          ]
        },
        {
          "output_type": "stream",
          "name": "stdout",
          "text": [
            "Epoch 13/20 - Train Loss: 0.0020, Train Acc: 100.00%, Val Loss: 0.4771, Val Acc: 90.75%\n"
          ]
        },
        {
          "output_type": "stream",
          "name": "stderr",
          "text": [
            "Epoch 14/20 [Train]: 100%|██████████| 200/200 [00:01<00:00, 113.00it/s, Loss=0.0003, Acc=100.00%]\n"
          ]
        },
        {
          "output_type": "stream",
          "name": "stdout",
          "text": [
            "Epoch 14/20 - Train Loss: 0.0009, Train Acc: 100.00%, Val Loss: 0.5009, Val Acc: 90.88%\n"
          ]
        },
        {
          "output_type": "stream",
          "name": "stderr",
          "text": [
            "Epoch 15/20 [Train]: 100%|██████████| 200/200 [00:01<00:00, 105.08it/s, Loss=0.0003, Acc=100.00%]\n"
          ]
        },
        {
          "output_type": "stream",
          "name": "stdout",
          "text": [
            "Epoch 15/20 - Train Loss: 0.0006, Train Acc: 100.00%, Val Loss: 0.5116, Val Acc: 90.81%\n"
          ]
        },
        {
          "output_type": "stream",
          "name": "stderr",
          "text": [
            "Epoch 16/20 [Train]: 100%|██████████| 200/200 [00:01<00:00, 107.98it/s, Loss=0.0015, Acc=100.00%]\n"
          ]
        },
        {
          "output_type": "stream",
          "name": "stdout",
          "text": [
            "Epoch 16/20 - Train Loss: 0.0005, Train Acc: 100.00%, Val Loss: 0.5199, Val Acc: 90.69%\n"
          ]
        },
        {
          "output_type": "stream",
          "name": "stderr",
          "text": [
            "Epoch 17/20 [Train]: 100%|██████████| 200/200 [00:01<00:00, 111.63it/s, Loss=0.0001, Acc=100.00%]\n"
          ]
        },
        {
          "output_type": "stream",
          "name": "stdout",
          "text": [
            "Epoch 17/20 - Train Loss: 0.0004, Train Acc: 100.00%, Val Loss: 0.5279, Val Acc: 90.81%\n"
          ]
        },
        {
          "output_type": "stream",
          "name": "stderr",
          "text": [
            "Epoch 18/20 [Train]: 100%|██████████| 200/200 [00:01<00:00, 134.11it/s, Loss=0.0002, Acc=100.00%]\n"
          ]
        },
        {
          "output_type": "stream",
          "name": "stdout",
          "text": [
            "Epoch 18/20 - Train Loss: 0.0003, Train Acc: 100.00%, Val Loss: 0.5383, Val Acc: 90.50%\n"
          ]
        },
        {
          "output_type": "stream",
          "name": "stderr",
          "text": [
            "Epoch 19/20 [Train]: 100%|██████████| 200/200 [00:01<00:00, 132.73it/s, Loss=0.0001, Acc=100.00%]\n"
          ]
        },
        {
          "output_type": "stream",
          "name": "stdout",
          "text": [
            "Epoch 19/20 - Train Loss: 0.0003, Train Acc: 100.00%, Val Loss: 0.5482, Val Acc: 90.88%\n"
          ]
        },
        {
          "output_type": "stream",
          "name": "stderr",
          "text": [
            "Epoch 20/20 [Train]: 100%|██████████| 200/200 [00:01<00:00, 132.55it/s, Loss=0.0003, Acc=100.00%]\n"
          ]
        },
        {
          "output_type": "stream",
          "name": "stdout",
          "text": [
            "Epoch 20/20 - Train Loss: 0.0002, Train Acc: 100.00%, Val Loss: 0.5645, Val Acc: 90.25%\n"
          ]
        }
      ]
    },
    {
      "cell_type": "code",
      "source": [
        "# --- Confusion Matrix ve Görselleştirme ---\n",
        "import matplotlib.pyplot as plt\n",
        "import seaborn as sns\n",
        "from sklearn.metrics import confusion_matrix\n",
        "\n",
        "model.eval()\n",
        "all_preds = []\n",
        "all_labels = []\n",
        "\n",
        "with torch.no_grad():\n",
        "    for waveforms, labels in test_loader:\n",
        "        waveforms = waveforms.to(device)\n",
        "        labels = labels.to(device)\n",
        "        outputs = model(waveforms)\n",
        "        predicted = (outputs > 0.5).int().cpu().numpy()\n",
        "        all_preds.extend(predicted.flatten())\n",
        "        all_labels.extend(labels.cpu().numpy())\n",
        "\n",
        "# Confusion matrix hesapla\n",
        "cm = confusion_matrix(all_labels, all_preds)\n",
        "plt.figure(figsize=(6, 5))\n",
        "sns.heatmap(cm, annot=True, fmt='d', cmap='Blues', xticklabels=['Noise', 'P-Wave'], yticklabels=['Noise', 'P-Wave'])\n",
        "plt.xlabel('Tahmin Edilen')\n",
        "plt.ylabel('Gerçek')\n",
        "plt.title('Confusion Matrix')\n",
        "plt.tight_layout()\n",
        "plt.show()\n"
      ],
      "metadata": {
        "colab": {
          "base_uri": "https://localhost:8080/",
          "height": 507
        },
        "id": "EczY--N_mKc4",
        "outputId": "6ee360e2-3361-4bc6-8100-8798862c8757"
      },
      "execution_count": null,
      "outputs": [
        {
          "output_type": "display_data",
          "data": {
            "text/plain": [
              "<Figure size 600x500 with 2 Axes>"
            ],
            "image/png": "[encoded data removed]"
          },
          "metadata": {}
        }
      ]
    },
    {
      "cell_type": "code",
      "source": [
        "from sklearn.metrics import classification_report\n",
        "\n",
        "# Classification Report\n",
        "print(\"\\nTest Classification Report:\")\n",
        "print(classification_report(all_labels, all_preds))"
      ],
      "metadata": {
        "colab": {
          "base_uri": "https://localhost:8080/"
        },
        "id": "hcfTAyU2kgjx",
        "outputId": "b30b154c-0a7b-4267-dd4f-bc767e058719"
      },
      "execution_count": null,
      "outputs": [
        {
          "output_type": "stream",
          "name": "stdout",
          "text": [
            "\n",
            "Test Classification Report:\n",
            "              precision    recall  f1-score   support\n",
            "\n",
            "         0.0       0.89      0.91      0.90       789\n",
            "         1.0       0.91      0.89      0.90       811\n",
            "\n",
            "    accuracy                           0.90      1600\n",
            "   macro avg       0.90      0.90      0.90      1600\n",
            "weighted avg       0.90      0.90      0.90      1600\n",
            "\n"
          ]
        }
      ]
    }
  ]
}