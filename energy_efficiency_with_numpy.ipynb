{
  "cells": [
    {
      "cell_type": "code",
      "execution_count": null,
      "id": "3638a11a",
      "metadata": {
        "id": "3638a11a",
        "outputId": "0133123c-0935-4c40-ded9-bacd7f696a7d"
      },
      "outputs": [
        {
          "name": "stderr",
          "output_type": "stream",
          "text": [
            "2025-08-11 11:21:19.231700: E external/local_xla/xla/stream_executor/cuda/cuda_fft.cc:467] Unable to register cuFFT factory: Attempting to register factory for plugin cuFFT when one has already been registered\n",
            "WARNING: All log messages before absl::InitializeLog() is called are written to STDERR\n",
            "E0000 00:00:1754900479.253033    6187 cuda_dnn.cc:8579] Unable to register cuDNN factory: Attempting to register factory for plugin cuDNN when one has already been registered\n",
            "E0000 00:00:1754900479.260193    6187 cuda_blas.cc:1407] Unable to register cuBLAS factory: Attempting to register factory for plugin cuBLAS when one has already been registered\n",
            "W0000 00:00:1754900479.277328    6187 computation_placer.cc:177] computation placer already registered. Please check linkage and avoid linking the same target more than once.\n",
            "W0000 00:00:1754900479.277346    6187 computation_placer.cc:177] computation placer already registered. Please check linkage and avoid linking the same target more than once.\n",
            "W0000 00:00:1754900479.277348    6187 computation_placer.cc:177] computation placer already registered. Please check linkage and avoid linking the same target more than once.\n",
            "W0000 00:00:1754900479.277349    6187 computation_placer.cc:177] computation placer already registered. Please check linkage and avoid linking the same target more than once.\n",
            "2025-08-11 11:21:19.282588: I tensorflow/core/platform/cpu_feature_guard.cc:210] This TensorFlow binary is optimized to use available CPU instructions in performance-critical operations.\n",
            "To enable the following instructions: AVX2 FMA, in other operations, rebuild TensorFlow with the appropriate compiler flags.\n"
          ]
        }
      ],
      "source": [
        "import tensorflow as tf\n",
        "import numpy as np\n",
        "import matplotlib.pyplot as plt\n",
        "import pandas as pd\n",
        "from sklearn.model_selection import train_test_split"
      ]
    },
    {
      "cell_type": "code",
      "execution_count": null,
      "id": "9206db19",
      "metadata": {
        "id": "9206db19"
      },
      "outputs": [],
      "source": [
        "df = pd.read_excel(\"ENB2012_data.xlsx\")"
      ]
    },
    {
      "cell_type": "code",
      "execution_count": null,
      "id": "5d9446c8",
      "metadata": {
        "id": "5d9446c8",
        "outputId": "4b973d5f-339f-4fa2-ad25-a8f946dfea8d"
      },
      "outputs": [
        {
          "name": "stdout",
          "output_type": "stream",
          "text": [
            "     X1     X2     X3      X4   X5  X6   X7  X8     Y1     Y2\n",
            "0  0.98  514.5  294.0  110.25  7.0   2  0.0   0  15.55  21.33\n",
            "1  0.98  514.5  294.0  110.25  7.0   3  0.0   0  15.55  21.33\n",
            "2  0.98  514.5  294.0  110.25  7.0   4  0.0   0  15.55  21.33\n",
            "3  0.98  514.5  294.0  110.25  7.0   5  0.0   0  15.55  21.33\n",
            "4  0.90  563.5  318.5  122.50  7.0   2  0.0   0  20.84  28.28\n",
            "\n",
            "\n",
            "        X1     X2     X3     X4   X5  X6   X7  X8     Y1     Y2\n",
            "763  0.64  784.0  343.0  220.5  3.5   5  0.4   5  17.88  21.40\n",
            "764  0.62  808.5  367.5  220.5  3.5   2  0.4   5  16.54  16.88\n",
            "765  0.62  808.5  367.5  220.5  3.5   3  0.4   5  16.44  17.11\n",
            "766  0.62  808.5  367.5  220.5  3.5   4  0.4   5  16.48  16.61\n",
            "767  0.62  808.5  367.5  220.5  3.5   5  0.4   5  16.64  16.03\n"
          ]
        }
      ],
      "source": [
        "print(df.head())\n",
        "print('\\n\\n', df.tail())"
      ]
    },
    {
      "cell_type": "code",
      "execution_count": null,
      "id": "1bf09705",
      "metadata": {
        "id": "1bf09705",
        "outputId": "923323b5-9220-454d-a1f9-a7c28f801ba1"
      },
      "outputs": [
        {
          "data": {
            "text/html": [
              "<div>\n",
              "<style scoped>\n",
              "    .dataframe tbody tr th:only-of-type {\n",
              "        vertical-align: middle;\n",
              "    }\n",
              "\n",
              "    .dataframe tbody tr th {\n",
              "        vertical-align: top;\n",
              "    }\n",
              "\n",
              "    .dataframe thead th {\n",
              "        text-align: right;\n",
              "    }\n",
              "</style>\n",
              "<table border=\"1\" class=\"dataframe\">\n",
              "  <thead>\n",
              "    <tr style=\"text-align: right;\">\n",
              "      <th></th>\n",
              "      <th>X1</th>\n",
              "      <th>X2</th>\n",
              "      <th>X3</th>\n",
              "      <th>X4</th>\n",
              "      <th>X5</th>\n",
              "      <th>X6</th>\n",
              "      <th>X7</th>\n",
              "      <th>X8</th>\n",
              "      <th>Y1</th>\n",
              "      <th>Y2</th>\n",
              "    </tr>\n",
              "  </thead>\n",
              "  <tbody>\n",
              "    <tr>\n",
              "      <th>count</th>\n",
              "      <td>768.000000</td>\n",
              "      <td>768.000000</td>\n",
              "      <td>768.000000</td>\n",
              "      <td>768.000000</td>\n",
              "      <td>768.00000</td>\n",
              "      <td>768.000000</td>\n",
              "      <td>768.000000</td>\n",
              "      <td>768.00000</td>\n",
              "      <td>768.000000</td>\n",
              "      <td>768.000000</td>\n",
              "    </tr>\n",
              "    <tr>\n",
              "      <th>mean</th>\n",
              "      <td>0.764167</td>\n",
              "      <td>671.708333</td>\n",
              "      <td>318.500000</td>\n",
              "      <td>176.604167</td>\n",
              "      <td>5.25000</td>\n",
              "      <td>3.500000</td>\n",
              "      <td>0.234375</td>\n",
              "      <td>2.81250</td>\n",
              "      <td>22.307195</td>\n",
              "      <td>24.587760</td>\n",
              "    </tr>\n",
              "    <tr>\n",
              "      <th>std</th>\n",
              "      <td>0.105777</td>\n",
              "      <td>88.086116</td>\n",
              "      <td>43.626481</td>\n",
              "      <td>45.165950</td>\n",
              "      <td>1.75114</td>\n",
              "      <td>1.118763</td>\n",
              "      <td>0.133221</td>\n",
              "      <td>1.55096</td>\n",
              "      <td>10.090204</td>\n",
              "      <td>9.513306</td>\n",
              "    </tr>\n",
              "    <tr>\n",
              "      <th>min</th>\n",
              "      <td>0.620000</td>\n",
              "      <td>514.500000</td>\n",
              "      <td>245.000000</td>\n",
              "      <td>110.250000</td>\n",
              "      <td>3.50000</td>\n",
              "      <td>2.000000</td>\n",
              "      <td>0.000000</td>\n",
              "      <td>0.00000</td>\n",
              "      <td>6.010000</td>\n",
              "      <td>10.900000</td>\n",
              "    </tr>\n",
              "    <tr>\n",
              "      <th>25%</th>\n",
              "      <td>0.682500</td>\n",
              "      <td>606.375000</td>\n",
              "      <td>294.000000</td>\n",
              "      <td>140.875000</td>\n",
              "      <td>3.50000</td>\n",
              "      <td>2.750000</td>\n",
              "      <td>0.100000</td>\n",
              "      <td>1.75000</td>\n",
              "      <td>12.992500</td>\n",
              "      <td>15.620000</td>\n",
              "    </tr>\n",
              "    <tr>\n",
              "      <th>50%</th>\n",
              "      <td>0.750000</td>\n",
              "      <td>673.750000</td>\n",
              "      <td>318.500000</td>\n",
              "      <td>183.750000</td>\n",
              "      <td>5.25000</td>\n",
              "      <td>3.500000</td>\n",
              "      <td>0.250000</td>\n",
              "      <td>3.00000</td>\n",
              "      <td>18.950000</td>\n",
              "      <td>22.080000</td>\n",
              "    </tr>\n",
              "    <tr>\n",
              "      <th>75%</th>\n",
              "      <td>0.830000</td>\n",
              "      <td>741.125000</td>\n",
              "      <td>343.000000</td>\n",
              "      <td>220.500000</td>\n",
              "      <td>7.00000</td>\n",
              "      <td>4.250000</td>\n",
              "      <td>0.400000</td>\n",
              "      <td>4.00000</td>\n",
              "      <td>31.667500</td>\n",
              "      <td>33.132500</td>\n",
              "    </tr>\n",
              "    <tr>\n",
              "      <th>max</th>\n",
              "      <td>0.980000</td>\n",
              "      <td>808.500000</td>\n",
              "      <td>416.500000</td>\n",
              "      <td>220.500000</td>\n",
              "      <td>7.00000</td>\n",
              "      <td>5.000000</td>\n",
              "      <td>0.400000</td>\n",
              "      <td>5.00000</td>\n",
              "      <td>43.100000</td>\n",
              "      <td>48.030000</td>\n",
              "    </tr>\n",
              "  </tbody>\n",
              "</table>\n",
              "</div>"
            ],
            "text/plain": [
              "               X1          X2          X3          X4         X5          X6  \\\n",
              "count  768.000000  768.000000  768.000000  768.000000  768.00000  768.000000   \n",
              "mean     0.764167  671.708333  318.500000  176.604167    5.25000    3.500000   \n",
              "std      0.105777   88.086116   43.626481   45.165950    1.75114    1.118763   \n",
              "min      0.620000  514.500000  245.000000  110.250000    3.50000    2.000000   \n",
              "25%      0.682500  606.375000  294.000000  140.875000    3.50000    2.750000   \n",
              "50%      0.750000  673.750000  318.500000  183.750000    5.25000    3.500000   \n",
              "75%      0.830000  741.125000  343.000000  220.500000    7.00000    4.250000   \n",
              "max      0.980000  808.500000  416.500000  220.500000    7.00000    5.000000   \n",
              "\n",
              "               X7         X8          Y1          Y2  \n",
              "count  768.000000  768.00000  768.000000  768.000000  \n",
              "mean     0.234375    2.81250   22.307195   24.587760  \n",
              "std      0.133221    1.55096   10.090204    9.513306  \n",
              "min      0.000000    0.00000    6.010000   10.900000  \n",
              "25%      0.100000    1.75000   12.992500   15.620000  \n",
              "50%      0.250000    3.00000   18.950000   22.080000  \n",
              "75%      0.400000    4.00000   31.667500   33.132500  \n",
              "max      0.400000    5.00000   43.100000   48.030000  "
            ]
          },
          "execution_count": 4,
          "metadata": {},
          "output_type": "execute_result"
        }
      ],
      "source": [
        "df.describe()"
      ]
    },
    {
      "cell_type": "markdown",
      "id": "71feb376",
      "metadata": {
        "id": "71feb376"
      },
      "source": [
        "|Variable Name\t|Role\t|Type\t|Description\t|Missing Values\n",
        "|--|--|--|--|--\n",
        "|X1\t|Feature\t|Continuous\t|Relative Compactness\t\t|no\n",
        "|X2\t|Feature\t|Continuous\t|Surface Area\t\t|no\n",
        "|X3\t|Feature\t|Continuous\t|Wall Area\t\t            |no\n",
        "|X4\t|Feature\t|Continuous\t|Roof Area\t\t|no\n",
        "|X5\t|Feature\t|Continuous\t|Overall Height\t\t|no\n",
        "|X6\t|Feature\t|Integer\t|Orientation\t\t|no\n",
        "|X7\t|Feature\t|Continuous\t|Glazing Area\t\t|no\n",
        "|X8\t|Feature\t|Integer\t|Glazing Area Distribution\t\t|no\n",
        "|Y1\t|Target\t    |Continuous\t|Heating Load\t\t|no\n",
        "|Y2\t|Target\t    |Continuous\t|Cooling Load\t\t|no"
      ]
    },
    {
      "cell_type": "code",
      "execution_count": null,
      "id": "1d52d51a",
      "metadata": {
        "id": "1d52d51a",
        "outputId": "4978c3ad-20ae-4022-f20a-09b966b1d3b1"
      },
      "outputs": [
        {
          "name": "stdout",
          "output_type": "stream",
          "text": [
            "<class 'pandas.core.frame.DataFrame'>\n",
            "RangeIndex: 768 entries, 0 to 767\n",
            "Data columns (total 10 columns):\n",
            " #   Column  Non-Null Count  Dtype  \n",
            "---  ------  --------------  -----  \n",
            " 0   X1      768 non-null    float64\n",
            " 1   X2      768 non-null    float64\n",
            " 2   X3      768 non-null    float64\n",
            " 3   X4      768 non-null    float64\n",
            " 4   X5      768 non-null    float64\n",
            " 5   X6      768 non-null    int64  \n",
            " 6   X7      768 non-null    float64\n",
            " 7   X8      768 non-null    int64  \n",
            " 8   Y1      768 non-null    float64\n",
            " 9   Y2      768 non-null    float64\n",
            "dtypes: float64(8), int64(2)\n",
            "memory usage: 60.1 KB\n"
          ]
        }
      ],
      "source": [
        "df.info()"
      ]
    },
    {
      "cell_type": "code",
      "execution_count": null,
      "id": "a72e351d",
      "metadata": {
        "id": "a72e351d",
        "outputId": "4ca0bf1f-6d99-417e-ed40-34c0990ba91a"
      },
      "outputs": [
        {
          "name": "stdout",
          "output_type": "stream",
          "text": [
            "(768, 8) (768,) 0 0\n"
          ]
        }
      ],
      "source": [
        "features = ['X1', 'X2', 'X3', 'X4', 'X5', 'X6', 'X7', 'X8']\n",
        "target = 'Y1'\n",
        "\n",
        "x = df[features].copy()\n",
        "y_cont = df[target].to_numpy() # 1D numpy array\n",
        "print(x.shape, y_cont.shape, x.isna().sum().sum(), np.isnan(y_cont).sum())"
      ]
    },
    {
      "cell_type": "markdown",
      "id": "8b63c7e8",
      "metadata": {
        "id": "8b63c7e8"
      },
      "source": [
        "### Sürekli hedefi 3 sınıfa dönüştürme (binning)\n",
        "\n",
        "Sürekli bir hedef değişkeni, sınıflandırma yapabilmek için ayrık 3 sınıfa dönüştürülür. Temel seçenekler:\n",
        "\n",
        "- Eşit frekans (quantile tabanlı, pd.qcut): Her sınıfta yaklaşık eşit sayıda örnek olur. Dengesizliği azaltır.\n",
        "\n",
        "- Eşit genişlik (pd.cut): Değer aralığını üç eşit dilime böler. Dağılım çok çarpıksa sınıf sayıları dengesiz olabilir.   \n",
        "\n",
        "- Özel eşikler: İş bilgisine göre belirlediğin kesim noktaları."
      ]
    },
    {
      "cell_type": "code",
      "execution_count": null,
      "id": "6d3f191c",
      "metadata": {
        "id": "6d3f191c"
      },
      "outputs": [],
      "source": [
        "# İlk train-test split\n",
        "x_train, x_test, y_train, y_test = train_test_split(\n",
        "    x, y_cont, test_size=0.2, random_state=42)"
      ]
    },
    {
      "cell_type": "code",
      "execution_count": null,
      "id": "15ce20d0",
      "metadata": {
        "id": "15ce20d0",
        "outputId": "8a95ea73-1530-4d47-dc00-69ebf66add14"
      },
      "outputs": [
        {
          "name": "stdout",
          "output_type": "stream",
          "text": [
            "Thresholds for binning: 14.52258, 28.56258\n"
          ]
        }
      ],
      "source": [
        "thresholds = np.percentile(y_train, [33.3, 66.6])\n",
        "t1, t2 = thresholds\n",
        "\n",
        "print(f\"Thresholds for binning: {t1}, {t2}\")"
      ]
    },
    {
      "cell_type": "markdown",
      "id": "d0ee419e",
      "metadata": {
        "id": "d0ee419e"
      },
      "source": [
        "<i>np.percentile(y_train, [33.3, 66.6])</i>  kodu, y_train adlı veri setinin 33.3'üncü ve 66.6'ıncı persentillerini bulur.\n",
        "\n",
        "- t1: Verilerin %33.3'ünün bu değerden daha düşük veya eşit olduğu nokta.\n",
        "\n",
        "- t2: Verilerin %66.6'sının bu değerden daha düşük veya eşit olduğu nokta.\n",
        "\n",
        "Böylece üç sınıfa ayrılmış olur:\n",
        "\n",
        "x < t1: 1.sınıf, t1 < x < t2: 2.sınıf, t2 < x: 3. sınıf"
      ]
    },
    {
      "cell_type": "code",
      "execution_count": null,
      "id": "81723421",
      "metadata": {
        "id": "81723421",
        "outputId": "ee4ee9ff-35d8-4e97-f84f-1e537e153ca6"
      },
      "outputs": [
        {
          "name": "stdout",
          "output_type": "stream",
          "text": [
            "(array([0, 1, 2]), array([205, 204, 205]))\n",
            "(array([0, 1, 2]), array([49, 48, 57]))\n"
          ]
        }
      ],
      "source": [
        "# Eğitim ve test verisini 3 sınıfa ayırma\n",
        "y_class_train = np.digitize(y_train, bins=[t1, t2])\n",
        "y_class_test = np.digitize(y_test, bins=[t1, t2])\n",
        "\n",
        "# 0=low, 1=mid, 2=high üç kategori\n",
        "print(np.unique(y_class_train, return_counts=True))\n",
        "print(np.unique(y_class_test, return_counts=True))"
      ]
    },
    {
      "cell_type": "markdown",
      "id": "522063c9",
      "metadata": {
        "id": "522063c9"
      },
      "source": [
        "np.digitize → Belirlenen eşiklere göre sayısal etiketler (0, 1, 2) üretir.\n",
        "\n",
        "Test setini de train’den gelen eşiklerle bölüyoruz, böylece veri sızıntısı (data leakage) önlenmiş oluyor."
      ]
    },
    {
      "cell_type": "markdown",
      "id": "43d14ec4",
      "metadata": {
        "id": "43d14ec4"
      },
      "source": [
        "Birçok makine öğrenmesi modeli, özellikle de sinir ağları, girdi olarak sayısal değerleri bekler. Ancak sınıflar (örneğin: kedi, köpek, kuş) metinsel ifadelerdir. Bu metinleri doğrudan sayılara dönüştürmek (kedi=0, köpek=1, kuş=2 gibi) genellikle iyi bir fikir değildir, çünkü bu sayılar arasında modelin yanlış yorumlayabileceği bir sıralama ilişkisi yaratır. Yani, model köpek sınıfının kedi sınıfından daha \"büyük\" veya \"üstün\" olduğunu düşünebilir ki bu anlamsızdır.\n",
        "\n",
        "One-hot encoding, bu sıralama sorununu çözerek her bir sınıfı eşit derecede önemli hale getirir. Her bir sınıf için yeni bir sütun (veya boyut) oluşturur ve o sınıfa ait örnekte ilgili sütuna 1, diğer tüm sütunlara ise 0 yazar."
      ]
    },
    {
      "cell_type": "code",
      "execution_count": null,
      "id": "24e1491a",
      "metadata": {
        "id": "24e1491a",
        "outputId": "7b2db49d-59e4-4b4d-8df8-5316c110dea1"
      },
      "outputs": [
        {
          "name": "stdout",
          "output_type": "stream",
          "text": [
            "           X1        X2        X3        X4        X5        X6        X7  \\\n",
            "60   0.553220 -0.695655 -0.007366 -0.678495  1.015593 -1.363299 -1.009476   \n",
            "618 -1.154177  1.249645  0.557984  0.956283 -0.983042  0.440722  1.226790   \n",
            "346  0.932641 -0.973555 -0.572717 -0.678495  1.015593  0.440722  0.108657   \n",
            "294  1.312063 -1.251455 -0.007366 -1.223421  1.015593  0.440722  0.108657   \n",
            "231 -0.964466  0.971745 -0.007366  0.956283 -0.983042  1.342732 -1.009476   \n",
            "\n",
            "           X8  \n",
            "60  -1.159653  \n",
            "618 -0.515285  \n",
            "346 -0.515285  \n",
            "294 -1.159653  \n",
            "231  0.773452  \n"
          ]
        }
      ],
      "source": [
        "#standartlaştırma\n",
        "mean = x_train.mean(axis=0)\n",
        "std = x_train.std(axis=0)\n",
        "\n",
        "# std==0 olan sütunlar için 1 ile değiştir (böylece bölme güvenli)\n",
        "std_repl = std.replace(0, 1)\n",
        "\n",
        "x_train_std = (x_train - mean) / std_repl\n",
        "x_test_std = (x_test - mean) / std_repl\n",
        "\n",
        "# Sonuç DataFrame'ler sütun isimlerini ve index'i korur\n",
        "print(x_train_std.head())"
      ]
    },
    {
      "cell_type": "markdown",
      "id": "86cdd7a5",
      "metadata": {
        "id": "86cdd7a5"
      },
      "source": [
        "Makine öğrenmesinde, verileri standartlaştırmak için kullanılan ortalama (mean) ve standart sapma (std) değerleri yalnızca <B>eğitim verisi (x_train)</B> üzerinden hesaplanmalıdır. Bunun nedeni, modelin eğitim sırasında görmediği verilerle ilgili hiçbir bilgiyi kullanmaması gerektiğidir."
      ]
    },
    {
      "cell_type": "code",
      "execution_count": null,
      "id": "6f812419",
      "metadata": {
        "id": "6f812419"
      },
      "outputs": [],
      "source": [
        "# Kaydet\n",
        "np.savez(\"scaler_stats.npz\", mean=mean.values, std=std.values, cols=x_train.columns.to_list())\n",
        "\n",
        "# Yükle\n",
        "data = np.load(\"scaler_stats.npz\", allow_pickle=True)\n",
        "mean_loaded_arr = data[\"mean\"]\n",
        "std_loaded_arr  = data[\"std\"]\n",
        "cols = data[\"cols\"].tolist()\n",
        "\n",
        "# Series'e geri çevir\n",
        "mean_loaded = pd.Series(mean_loaded_arr, index=cols)\n",
        "std_loaded  = pd.Series(std_loaded_arr,  index=cols)\n",
        "\n",
        "# Uygula\n",
        "std_loaded_repl = std_loaded.replace(0, 1)\n",
        "X_test_scaled = (x_test - mean_loaded) / std_loaded_repl\n"
      ]
    },
    {
      "cell_type": "markdown",
      "id": "167949fb",
      "metadata": {
        "id": "167949fb"
      },
      "source": [
        "- <b>Kaydetme (np.savez):</b> Eğitimi tamamladığınızda, X_train üzerinden hesaplanan mean ve std değerlerini bir .npz dosyasına kaydedersiniz. Bu dosya, modelle birlikte saklanır.\n",
        "\n",
        "- <b>Yükleme (np.load):</b> Modelinizi test etmek veya canlı bir ortamda kullanmak istediğinizde, bu kaydedilmiş mean ve std değerlerini dosyadan geri yüklersiniz.\n",
        "\n",
        "- <b> Uygulama (X_test_scaled = ...):</b> Yüklenen bu istatistikler, yeni gelen X_test verisine uygulanır. Bu, X_test verisinin, modelin eğitimde gördüğü dağılıma göre standartlaştırılmasını sağlar."
      ]
    },
    {
      "cell_type": "code",
      "execution_count": null,
      "id": "dd6d4cd1",
      "metadata": {
        "id": "dd6d4cd1"
      },
      "outputs": [],
      "source": [
        "#train_ratio, val_ratio, test_ratio: Veri setlerinin hangi oranlarda ayrılacağını belirten değerler.\n",
        "def stratified_split(X, y_class, train_ratio=0.7, val_ratio=0.15, test_ratio=0.15, random_state=None):\n",
        "    if random_state is not None: #random_state: İşlemin her seferinde aynı sonucu vermesini sağlayan bir başlangıç değeri.\n",
        "        np.random.seed(random_state)\n",
        "\n",
        "    # Tüm indeksler\n",
        "    n_samples = len(y_class)\n",
        "    indices = np.arange(n_samples)\n",
        "\n",
        "    # Çıktı listeleri (boş)\n",
        "    train_idx, val_idx, test_idx = [], [], []\n",
        "\n",
        "    # Her sınıf için indeksleri al\n",
        "    classes = np.unique(y_class) #unique ile y_class'ta kaç farklı sınıf olduğunu buluruz\n",
        "    for c in classes: # Her sınıf için, o sınıfa ait veri örneklerinin indekslerini alırız\n",
        "        class_idx = indices[y_class == c]  # Bu sınıfa ait indeksler\n",
        "        perm = np.random.permutation(class_idx)  # veri setinde sıralı yapı varsa indexleri karıştır\n",
        "\n",
        "        # train_ratio, val_ratio oranlarına göre,\n",
        "        # bu karışık indeksleri üç parçaya böler: train, val ve test\n",
        "        n_total = len(class_idx)\n",
        "        n_train = int(n_total * train_ratio)\n",
        "        n_val   = int(n_total * val_ratio)\n",
        "        # test otomatik kalan\n",
        "        n_test  = n_total - n_train - n_val\n",
        "\n",
        "        train_idx.extend(perm[:n_train])\n",
        "        val_idx.extend(perm[n_train:n_train+n_val])\n",
        "        test_idx.extend(perm[n_train+n_val:])\n",
        "\n",
        "    # son karıştırma (farklı sınıfların indeksleri birleşince sıralı olmasın)\n",
        "    train_idx = np.random.permutation(train_idx)\n",
        "    val_idx   = np.random.permutation(val_idx)\n",
        "    test_idx  = np.random.permutation(test_idx)\n",
        "\n",
        "    # Splitleri döndür\n",
        "    return X[train_idx], X[val_idx], X[test_idx], y_class[train_idx], y_class[val_idx], y_class[test_idx]\n",
        "\n"
      ]
    },
    {
      "cell_type": "code",
      "execution_count": null,
      "id": "6934d451",
      "metadata": {
        "id": "6934d451",
        "outputId": "7c6f2cc6-5580-4e09-8f2a-35e4a6de8939"
      },
      "outputs": [
        {
          "name": "stdout",
          "output_type": "stream",
          "text": [
            "Train dağılımı: [143 142 143]\n",
            "Val   dağılımı: [30 30 30]\n",
            "Test  dağılımı: [32 32 32]\n"
          ]
        }
      ],
      "source": [
        "# Asıl veriyi kullanarak stratified split\n",
        "X_train, X_val, X_test, y_train, y_val, y_test = stratified_split(\n",
        "    x_train_std.values, y_class_train, train_ratio=0.7, val_ratio=0.15, test_ratio=0.15, random_state=42\n",
        ")\n",
        "\n",
        "\n",
        "# Dağılımı kontrol et\n",
        "print(\"Train dağılımı:\", np.bincount(y_train))\n",
        "print(\"Val   dağılımı:\", np.bincount(y_val))\n",
        "print(\"Test  dağılımı:\", np.bincount(y_test))"
      ]
    },
    {
      "cell_type": "code",
      "execution_count": null,
      "id": "4c8e6314",
      "metadata": {
        "id": "4c8e6314"
      },
      "outputs": [],
      "source": [
        "num_classes = len(np.unique(y_train))\n",
        "\n",
        "# One-hot encoding\n",
        "y_train_oh = np.eye(num_classes)[y_train]\n",
        "y_val_oh   = np.eye(num_classes)[y_val]\n",
        "y_test_oh  = np.eye(num_classes)[y_test]"
      ]
    },
    {
      "cell_type": "code",
      "execution_count": null,
      "id": "7ce848cd",
      "metadata": {
        "id": "7ce848cd"
      },
      "outputs": [],
      "source": [
        "# Fully connected neural network\n",
        "def relu(x): #forward pass için ReLU aktivasyon fonksiyonu\n",
        "    return np.maximum(0, x)\n",
        "\n",
        "\n",
        "def relu_derivative(x): # backward pass için ReLU türevi\n",
        "    # ReLU türevi, x > 0 ise 1, aksi halde 0\n",
        "    return (x > 0).astype(float)\n",
        "\n",
        "\n",
        "def softmax(x):\n",
        "    # x: (sınıf_sayısı, örnek_sayısı)\n",
        "    e_x = np.exp(x - np.max(x, axis=0, keepdims=True))\n",
        "    return e_x / np.sum(e_x, axis=0, keepdims=True)\n",
        "\n",
        "\n",
        "def init_params(input_size, hidden_size, output_size):\n",
        "    np.random.seed(42)\n",
        "    w1 = np.random.randn(hidden_size, input_size) * 0.01\n",
        "    b1 = np.zeros((hidden_size, 1))\n",
        "    w2 = np.random.randn(output_size, hidden_size) * 0.01\n",
        "    b2 = np.zeros((output_size, 1))\n",
        "    return w1, b1, w2, b2\n",
        "\n",
        "\n",
        "def forward_pass(x, w1, b1, w2, b2):\n",
        "    z1 = np.dot(w1, x) + b1\n",
        "    a1 = relu(z1)\n",
        "    z2 = np.dot(w2, a1) + b2\n",
        "    a2 = softmax(z2)\n",
        "\n",
        "    return z1, a1, z2, a2\n",
        "\n",
        "\n",
        "def backward_pass(x, y, z1, a1, z2, a2, w2):\n",
        "    \"\"\"\n",
        "    x: (input_size, batch_size) girdi matrisi\n",
        "    y: (num_classes, batch_size) one-hot hedef\n",
        "    \"\"\"\n",
        "    m = x.shape[1]  # Batch size\n",
        "\n",
        "    # BACKWARD\n",
        "    # Son katman gradyanları\n",
        "    dz2 = (a2 - y)                                       # (num_classes, batch_size)\n",
        "    dw2 = np.dot(dz2, a1.T) / m                          # (num_classes, hidden_size)\n",
        "    db2 = np.sum(dz2, axis=1, keepdims=True) / m         # (num_classes, 1)\n",
        "\n",
        "    # İlk katman gradyanları\n",
        "    da1 = np.dot(w2.T, dz2)                             # (hidden_size, batch_size)\n",
        "    dz1 = da1 * relu_derivative(z1)                     # (hidden_size, batch_size)\n",
        "    dw1 = np.dot(dz1, x.T) / m                          # (hidden_size, input_size)\n",
        "    db1 = np.sum(dz1, axis=1, keepdims=True) / m        # (hidden_size, 1)\n",
        "\n",
        "    return dw1, db1, dw2, db2\n",
        "\n",
        "\n",
        "\n",
        "\n",
        "def sgd_optimizer(w1, b1, w2, b2, dw1, db1, dw2, db2, learning_rate=0.01):\n",
        "    \"\"\"\n",
        "    Stochastic Gradient Descent (SGD) optimizasyonu\n",
        "    w1, b1, w2, b2: Ağırlık ve biaslar\n",
        "    dw1, db1, dw2, db2: Gradyanlar\n",
        "    learning_rate: Öğrenme oranı\n",
        "    \"\"\"\n",
        "    w1 -= learning_rate * dw1\n",
        "    b1 -= learning_rate * db1\n",
        "    w2 -= learning_rate * dw2\n",
        "    b2 -= learning_rate * db2\n",
        "\n",
        "    return w1, b1, w2, b2\n",
        "\n",
        "\n",
        "\n",
        "\n",
        "def adam_optimizer(w1, b1, w2, b2, dw1, db1, dw2, db2,\n",
        "                  m_w1, m_b1, m_w2, m_b2,\n",
        "                  v_w1, v_b1, v_w2, v_b2,\n",
        "                  t, learning_rate=0.001, beta1=0.9, beta2=0.999, epsilon=1e-8):\n",
        "    \"\"\"\n",
        "    Adam optimizasyonu\n",
        "    w1, b1, w2, b2: Ağırlık ve biaslar\n",
        "    dw1, db1, dw2, db2: Gradyanlar\n",
        "    m_w1, m_b1, m_w2, m_b2: İlk moment tahminleri\n",
        "    v_w1, v_b1, v_w2, v_b2: İkinci moment tahminleri\n",
        "    t: Güncelleme adımı\n",
        "    learning_rate: Öğrenme oranı\n",
        "    beta1: İlk moment için beta değeri\n",
        "    beta2: İkinci moment için beta değeri\n",
        "    epsilon: Sıfıra bölme hatasını önlemek için küçük bir değer\n",
        "    \"\"\"\n",
        "    # İlk moment güncellemesi\n",
        "    m_w1 = beta1 * m_w1 + (1 - beta1) * dw1\n",
        "    m_b1 = beta1 * m_b1 + (1 - beta1) * db1\n",
        "    m_w2 = beta1 * m_w2 + (1 - beta1) * dw2\n",
        "    m_b2 = beta1 * m_b2 + (1 - beta1) * db2\n",
        "\n",
        "    # İkinci moment güncellemesi\n",
        "    v_w1 = beta2 * v_w1 + (1 - beta2) * (dw1 ** 2)\n",
        "    v_b1 = beta2 * v_b1 + (1 - beta2) * (db1 ** 2)\n",
        "    v_w2 = beta2 * v_w2 + (1 - beta2) * (dw2 ** 2)\n",
        "    v_b2 = beta2 * v_b2 + (1 - beta2) * (db2 ** 2)\n",
        "\n",
        "    # Bias düzeltmeleri\n",
        "    m_w1_hat = m_w1 / (1 - beta1 ** t)\n",
        "    m_b1_hat = m_b1 / (1 - beta1 ** t)\n",
        "    m_w2_hat = m_w2 / (1 - beta1 ** t)\n",
        "    m_b2_hat = m_b2 / (1 - beta1 ** t)\n",
        "\n",
        "    v_w1_hat = v_w1 / (1 - beta2 ** t)\n",
        "    v_b1_hat = v_b1 / (1 - beta2 ** t)\n",
        "    v_w2_hat = v_w2 / (1 - beta2 ** t)\n",
        "    v_b2_hat = v_b2 / (1 - beta2 ** t)\n",
        "\n",
        "    # Ağırlık ve bias güncellemeleri\n",
        "    w1 -= learning_rate * m_w1_hat / (np.sqrt(v_w1_hat) + epsilon)\n",
        "    b1 -= learning_rate * m_b1_hat / (np.sqrt(v_b1_hat) + epsilon)\n",
        "    w2 -= learning_rate * m_w2_hat / (np.sqrt(v_w2_hat) + epsilon)\n",
        "    b2 -= learning_rate * m_b2_hat / (np.sqrt(v_b2_hat) + epsilon)\n",
        "\n",
        "    return w1, b1, w2, b2, m_w1, m_b1, m_w2, m_b2, v_w1, v_b1, v_w2, v_b2\n",
        "\n",
        "\n"
      ]
    },
    {
      "cell_type": "code",
      "execution_count": null,
      "id": "d203cc4e",
      "metadata": {
        "id": "d203cc4e"
      },
      "outputs": [],
      "source": [
        "def train(X_train, y_train, epochs=50, lr=0.01, optimizer='sgd'):\n",
        "    input_size = X_train.shape[1]\n",
        "    hidden_size = 128\n",
        "    output_size = y_train.shape[1]\n",
        "\n",
        "    # Initial parameters\n",
        "    w1, b1, w2, b2 = init_params(input_size, hidden_size, output_size)\n",
        "    losses = []\n",
        "    accuracies = []\n",
        "\n",
        "    # Adam parameters\n",
        "    if optimizer == 'adam':\n",
        "        m_w1, m_b1 = np.zeros_like(w1), np.zeros_like(b1)\n",
        "        m_w2, m_b2 = np.zeros_like(w2), np.zeros_like(b2)\n",
        "        v_w1, v_b1 = np.zeros_like(w1), np.zeros_like(b1)\n",
        "        v_w2, v_b2 = np.zeros_like(w2), np.zeros_like(b2)\n",
        "\n",
        "    # Training loop\n",
        "    for epoch in range(epochs):\n",
        "        # forward pass\n",
        "        z1, a1, z2, a2 = forward_pass(X_train.T, w1, b1, w2, b2)\n",
        "\n",
        "        # Loss\n",
        "        loss = - np.mean(np.sum(y_train.T * np.log(a2 + 1e-8), axis=0))  # Cross-entropy loss\n",
        "        losses.append(loss)\n",
        "\n",
        "        # backward pass\n",
        "        dw1, db1, dw2, db2 = backward_pass(X_train.T, y_train.T, z1, a1, z2, a2, w2)\n",
        "\n",
        "        # Update parameters\n",
        "        if optimizer == 'sgd':\n",
        "            w1, b1, w2, b2 = sgd_optimizer(w1, b1, w2, b2, dw1, db1, dw2, db2, lr)\n",
        "        elif optimizer == 'adam':\n",
        "            w1, b1, w2, b2, m_w1, m_b1, m_w2, m_b2, v_w1, v_b1, v_w2, v_b2 = adam_optimizer(\n",
        "                w1, b1, w2, b2, dw1, db1, dw2, db2,\n",
        "                m_w1, m_b1, m_w2, m_b2, v_w1, v_b1, v_w2, v_b2,\n",
        "                epoch + 1, lr\n",
        "            )\n",
        "\n",
        "\n",
        "        # Doğruluk hesapla (vektörlü)\n",
        "\n",
        "        if epoch % 10 == 0:\n",
        "            predictions = np.argmax(a2, axis=0)\n",
        "            labels = np.argmax(y_train.T, axis=0)  # y_train.T kullanıldı\n",
        "            acc = np.mean(predictions == labels)\n",
        "            accuracies.append(acc)\n",
        "            print(f\"Epoch {epoch + 1}/{epochs}, Loss: {loss:.4f}, Accuracy: {acc:.4f}\")\n",
        "\n",
        "    return w1, b1, w2, b2, losses, accuracies\n"
      ]
    },
    {
      "cell_type": "code",
      "execution_count": null,
      "id": "326b27a0",
      "metadata": {
        "id": "326b27a0",
        "outputId": "21647a7c-c4a3-4f4b-c179-011a822ecb13"
      },
      "outputs": [
        {
          "name": "stdout",
          "output_type": "stream",
          "text": [
            "Epoch 1/300, Loss: 1.0984, Accuracy: 0.3995\n",
            "Epoch 11/300, Loss: 1.0869, Accuracy: 0.6682\n",
            "Epoch 21/300, Loss: 1.0518, Accuracy: 0.6682\n",
            "Epoch 31/300, Loss: 0.9506, Accuracy: 0.6682\n",
            "Epoch 41/300, Loss: 0.7963, Accuracy: 0.6682\n",
            "Epoch 51/300, Loss: 0.6907, Accuracy: 0.6682\n",
            "Epoch 61/300, Loss: 0.6259, Accuracy: 0.6682\n",
            "Epoch 71/300, Loss: 0.5746, Accuracy: 0.7056\n",
            "Epoch 81/300, Loss: 0.5306, Accuracy: 0.7290\n",
            "Epoch 91/300, Loss: 0.4933, Accuracy: 0.7991\n",
            "Epoch 101/300, Loss: 0.4626, Accuracy: 0.8107\n",
            "Epoch 111/300, Loss: 0.4383, Accuracy: 0.8481\n",
            "Epoch 121/300, Loss: 0.4192, Accuracy: 0.8505\n",
            "Epoch 131/300, Loss: 0.4046, Accuracy: 0.8458\n",
            "Epoch 141/300, Loss: 0.3935, Accuracy: 0.8411\n",
            "Epoch 151/300, Loss: 0.3852, Accuracy: 0.8364\n",
            "Epoch 161/300, Loss: 0.3790, Accuracy: 0.8364\n",
            "Epoch 171/300, Loss: 0.3743, Accuracy: 0.8364\n",
            "Epoch 181/300, Loss: 0.3708, Accuracy: 0.8364\n",
            "Epoch 191/300, Loss: 0.3681, Accuracy: 0.8364\n",
            "Epoch 201/300, Loss: 0.3660, Accuracy: 0.8364\n",
            "Epoch 211/300, Loss: 0.3643, Accuracy: 0.8364\n",
            "Epoch 221/300, Loss: 0.3630, Accuracy: 0.8364\n",
            "Epoch 231/300, Loss: 0.3619, Accuracy: 0.8364\n",
            "Epoch 241/300, Loss: 0.3610, Accuracy: 0.8364\n",
            "Epoch 251/300, Loss: 0.3603, Accuracy: 0.8364\n",
            "Epoch 261/300, Loss: 0.3596, Accuracy: 0.8364\n",
            "Epoch 271/300, Loss: 0.3590, Accuracy: 0.8364\n",
            "Epoch 281/300, Loss: 0.3585, Accuracy: 0.8364\n",
            "Epoch 291/300, Loss: 0.3581, Accuracy: 0.8364\n"
          ]
        },
        {
          "data": {
            "image/png": "[encoded data removed]",
            "text/plain": [
              "<Figure size 1200x400 with 2 Axes>"
            ]
          },
          "metadata": {},
          "output_type": "display_data"
        }
      ],
      "source": [
        "# Eğitimi başlat (one-hot encoded y_train_oh kullanıldı)\n",
        "w1, b1, w2, b2, losses, acc = train(X_train, y_train_oh, epochs=300, lr=0.15, optimizer='sgd')\n",
        "\n",
        "# Sonuçları görselleştir\n",
        "plt.figure(figsize=(12, 4))\n",
        "plt.subplot(1, 2, 1)\n",
        "plt.plot(losses)\n",
        "plt.title('Training Loss')\n",
        "plt.xlabel('Epoch')\n",
        "plt.ylabel('Loss')\n",
        "\n",
        "plt.subplot(1, 2, 2)\n",
        "plt.plot(range(0, len(losses), 10), acc)\n",
        "plt.title('Training Accuracy')\n",
        "plt.xlabel('Epoch')\n",
        "plt.ylabel('Accuracy')\n",
        "plt.tight_layout()\n",
        "plt.show()\n"
      ]
    },
    {
      "cell_type": "code",
      "execution_count": null,
      "id": "dc679cc4",
      "metadata": {
        "id": "dc679cc4"
      },
      "outputs": [],
      "source": [
        "def test(X_test, y_test, w1, b1, w2, b2):\n",
        "    \"\"\"\n",
        "    Eğitilmiş modeli test verisinde değerlendirir\n",
        "\n",
        "    Parameters:\n",
        "    X_test: Test verisi (numpy array)\n",
        "    y_test: Test etiketleri (one-hot encoded)\n",
        "    w1, b1, w2, b2: Eğitilmiş model parametreleri\n",
        "\n",
        "    Returns:\n",
        "    test_loss: Test loss değeri\n",
        "    test_accuracy: Test doğruluğu\n",
        "    predictions: Tahminler (sınıf indeksleri)\n",
        "    probabilities: Olasılık dağılımları\n",
        "    \"\"\"\n",
        "\n",
        "    # Forward pass\n",
        "    z1, a1, z2, a2 = forward_pass(X_test.T, w1, b1, w2, b2)\n",
        "\n",
        "    # Test loss hesapla\n",
        "    test_loss = -np.mean(np.sum(y_test.T * np.log(a2 + 1e-8), axis=0))\n",
        "\n",
        "    # Tahminleri al\n",
        "    predictions = np.argmax(a2, axis=0)\n",
        "    true_labels = np.argmax(y_test.T, axis=0)\n",
        "\n",
        "    # Doğruluğu hesapla\n",
        "    test_accuracy = np.mean(predictions == true_labels)\n",
        "\n",
        "    # Olasılık dağılımları\n",
        "    probabilities = a2.T  # (num_samples, num_classes) formatına çevir\n",
        "\n",
        "    print(f\"Test Loss: {test_loss:.4f}\")\n",
        "    print(f\"Test Accuracy: {test_accuracy:.4f}\")\n",
        "    print(f\"Test Accuracy (%): {test_accuracy * 100:.2f}%\")\n",
        "\n",
        "    return test_loss, test_accuracy, predictions, probabilities, true_labels\n"
      ]
    },
    {
      "cell_type": "code",
      "execution_count": null,
      "id": "a1b77dbb",
      "metadata": {
        "id": "a1b77dbb",
        "outputId": "62433984-d71a-4f91-d582-209ed1a910fd"
      },
      "outputs": [
        {
          "name": "stdout",
          "output_type": "stream",
          "text": [
            "Test Loss: 0.2998\n",
            "Test Accuracy: 0.8854\n",
            "Test Accuracy (%): 88.54%\n"
          ]
        }
      ],
      "source": [
        "# Test fonksiyonunu çalıştır\n",
        "test_loss, test_acc, predictions, probabilities, true_labels = test(X_test, y_test_oh, w1, b1, w2, b2)\n"
      ]
    },
    {
      "cell_type": "code",
      "execution_count": null,
      "id": "532f23da",
      "metadata": {
        "id": "532f23da",
        "outputId": "f43bd86f-3563-4e62-fa86-21f8db71dd80"
      },
      "outputs": [
        {
          "data": {
            "text/plain": [
              "Text(158.22222222222223, 0.5, 'Actual')"
            ]
          },
          "execution_count": 20,
          "metadata": {},
          "output_type": "execute_result"
        },
        {
          "data": {
            "image/png": "[encoded data removed]",
            "text/plain": [
              "<Figure size 1500x1000 with 2 Axes>"
            ]
          },
          "metadata": {},
          "output_type": "display_data"
        }
      ],
      "source": [
        "# Test sonuçlarını görselleştirme\n",
        "plt.figure(figsize=(15, 10))\n",
        "\n",
        "# 1. Confusion Matrix\n",
        "from sklearn.metrics import confusion_matrix\n",
        "import seaborn as sns\n",
        "\n",
        "plt.subplot(2, 3, 1)\n",
        "cm = confusion_matrix(true_labels, predictions)\n",
        "sns.heatmap(cm, annot=True, fmt='d', cmap='Blues',\n",
        "            xticklabels=['Low', 'Mid', 'High'],\n",
        "            yticklabels=['Low', 'Mid', 'High'])\n",
        "plt.title('Confusion Matrix')\n",
        "plt.xlabel('Predicted')\n",
        "plt.ylabel('Actual')"
      ]
    },
    {
      "cell_type": "code",
      "execution_count": null,
      "id": "f6b09416",
      "metadata": {
        "id": "f6b09416",
        "outputId": "34d9087d-2154-4e1c-da04-e6fe7506aedd"
      },
      "outputs": [
        {
          "data": {
            "image/png": "[encoded data removed]",
            "text/plain": [
              "<Figure size 640x480 with 1 Axes>"
            ]
          },
          "metadata": {},
          "output_type": "display_data"
        }
      ],
      "source": [
        "# 2. Sınıf bazında doğruluk\n",
        "plt.subplot(2, 3, 2)\n",
        "class_accuracies = []\n",
        "class_names = ['Low', 'Mid', 'High']\n",
        "for i in range(3):\n",
        "    mask = true_labels == i\n",
        "    if np.sum(mask) > 0:\n",
        "        class_acc = np.mean(predictions[mask] == true_labels[mask])\n",
        "        class_accuracies.append(class_acc)\n",
        "    else:\n",
        "        class_accuracies.append(0)\n",
        "\n",
        "plt.bar(class_names, class_accuracies, color=['lightcoral', 'lightblue', 'lightgreen'])\n",
        "plt.title('Class-wise Accuracy')\n",
        "plt.ylabel('Accuracy')\n",
        "plt.ylim(0, 1)\n",
        "for i, acc in enumerate(class_accuracies):\n",
        "    plt.text(i, acc + 0.01, f'{acc:.3f}', ha='center')"
      ]
    },
    {
      "cell_type": "code",
      "execution_count": null,
      "id": "90a5d09e",
      "metadata": {
        "id": "90a5d09e",
        "outputId": "1b2d2dd2-9e15-4b43-9804-44d384d319e5"
      },
      "outputs": [
        {
          "data": {
            "text/plain": [
              "Text(0, 0.5, 'Frequency')"
            ]
          },
          "execution_count": 22,
          "metadata": {},
          "output_type": "execute_result"
        },
        {
          "data": {
            "image/png": "[encoded data removed]",
            "text/plain": [
              "<Figure size 640x480 with 1 Axes>"
            ]
          },
          "metadata": {},
          "output_type": "display_data"
        }
      ],
      "source": [
        "# 3. Tahmin güven dağılımı\n",
        "plt.subplot(2, 3, 3)\n",
        "max_probs = np.max(probabilities, axis=1)\n",
        "plt.hist(max_probs, bins=20, alpha=0.7, color='skyblue', edgecolor='black')\n",
        "plt.title('Prediction Confidence Distribution')\n",
        "plt.xlabel('Max Probability')\n",
        "plt.ylabel('Frequency')"
      ]
    },
    {
      "cell_type": "code",
      "execution_count": null,
      "id": "ce6df8b5",
      "metadata": {
        "id": "ce6df8b5",
        "outputId": "d5a527ea-5448-4e2d-b2cc-661aa52f0a19"
      },
      "outputs": [
        {
          "data": {
            "image/png": "[encoded data removed]",
            "text/plain": [
              "<Figure size 640x480 with 1 Axes>"
            ]
          },
          "metadata": {},
          "output_type": "display_data"
        }
      ],
      "source": [
        "# 4. Doğru ve yanlış tahminlerin güven karşılaştırması\n",
        "plt.subplot(2, 3, 4)\n",
        "correct_mask = predictions == true_labels\n",
        "correct_probs = max_probs[correct_mask]\n",
        "incorrect_probs = max_probs[~correct_mask]\n",
        "\n",
        "plt.hist(correct_probs, bins=15, alpha=0.7, label='Correct', color='green')\n",
        "plt.hist(incorrect_probs, bins=15, alpha=0.7, label='Incorrect', color='red')\n",
        "plt.title('Confidence: Correct vs Incorrect')\n",
        "plt.xlabel('Max Probability')\n",
        "plt.ylabel('Frequency')\n",
        "plt.legend()\n",
        "plt.tight_layout()\n",
        "plt.show()"
      ]
    },
    {
      "cell_type": "code",
      "execution_count": null,
      "id": "277c45e3",
      "metadata": {
        "id": "277c45e3",
        "outputId": "3685b8b2-1889-4d09-e608-edfefe420816"
      },
      "outputs": [
        {
          "data": {
            "image/png": "[encoded data removed]",
            "text/plain": [
              "<Figure size 640x480 with 1 Axes>"
            ]
          },
          "metadata": {},
          "output_type": "display_data"
        }
      ],
      "source": [
        "# 5. Sınıf dağılımı karşılaştırması\n",
        "plt.subplot(2, 3, 5)\n",
        "true_counts = np.bincount(true_labels)\n",
        "pred_counts = np.bincount(predictions)\n",
        "\n",
        "x = np.arange(len(class_names))\n",
        "width = 0.35\n",
        "\n",
        "plt.bar(x - width/2, true_counts, width, label='True', alpha=0.8, color='lightblue')\n",
        "plt.bar(x + width/2, pred_counts, width, label='Predicted', alpha=0.8, color='orange')\n",
        "\n",
        "plt.xlabel('Classes')\n",
        "plt.ylabel('Count')\n",
        "plt.title('True vs Predicted Class Distribution')\n",
        "plt.xticks(x, class_names)\n",
        "plt.legend()\n",
        "plt.tight_layout()\n",
        "plt.show()"
      ]
    },
    {
      "cell_type": "code",
      "execution_count": null,
      "id": "7f587245",
      "metadata": {
        "id": "7f587245",
        "outputId": "59b3bf87-da8d-4965-f8b3-b2abdef30420"
      },
      "outputs": [
        {
          "data": {
            "image/png": "[encoded data removed]",
            "text/plain": [
              "<Figure size 640x480 with 1 Axes>"
            ]
          },
          "metadata": {},
          "output_type": "display_data"
        }
      ],
      "source": [
        "# 6. Training vs Test performans karşılaştırması\n",
        "plt.subplot(2, 3, 6)\n",
        "\n",
        "final_train_acc = acc  # acc zaten tek değer ise\n",
        "metrics = ['Training Accuracy', 'Test Accuracy']\n",
        "values = [final_train_acc, test_acc]\n",
        "colors = ['lightcoral', 'lightgreen']\n",
        "\n",
        "bars = plt.bar(metrics, values, color=colors)\n",
        "plt.title('Training vs Test Performance')\n",
        "plt.ylabel('Accuracy')\n",
        "plt.ylim(0, 1)\n",
        "\n",
        "# X-tick etiketlerini 60 derece döndür\n",
        "plt.xticks(rotation=60)\n",
        "\n",
        "for bar, value in zip(bars, values):\n",
        "    plt.text(bar.get_x() + bar.get_width()/2, value + 0.01,\n",
        "             f'{value:.3f}', ha='center')\n",
        "\n",
        "plt.tight_layout()\n",
        "plt.show()\n"
      ]
    },
    {
      "cell_type": "code",
      "execution_count": null,
      "id": "e5c47246",
      "metadata": {
        "id": "e5c47246",
        "outputId": "c669b403-f8ba-436d-fe6f-d262359d9522"
      },
      "outputs": [
        {
          "name": "stdout",
          "output_type": "stream",
          "text": [
            "\n",
            "==================================================\n",
            "DETAILED CLASSIFICATION REPORT\n",
            "==================================================\n",
            "\n",
            "Scikit-learn Classification Report:\n",
            "              precision    recall  f1-score   support\n",
            "\n",
            "         Low       0.88      0.91      0.89        32\n",
            "         Mid       0.82      0.84      0.83        32\n",
            "        High       0.97      0.91      0.94        32\n",
            "\n",
            "    accuracy                           0.89        96\n",
            "   macro avg       0.89      0.89      0.89        96\n",
            "weighted avg       0.89      0.89      0.89        96\n",
            "\n",
            "\n",
            "Overall Statistics:\n",
            "Total Test Samples: 96\n",
            "Correct Predictions: 85\n",
            "Incorrect Predictions: 11\n",
            "Test Accuracy: 0.8854 (88.54%)\n",
            "\n",
            "Per-class Statistics:\n",
            "Low: 29/32 correct (90.6%)\n",
            "Mid: 27/32 correct (84.4%)\n",
            "High: 29/32 correct (90.6%)\n"
          ]
        }
      ],
      "source": [
        "# Detaylı sınıflandırma raporu\n",
        "print(\"\\n\" + \"=\"*50)\n",
        "print(\"DETAILED CLASSIFICATION REPORT\")\n",
        "print(\"=\"*50)\n",
        "\n",
        "from sklearn.metrics import classification_report\n",
        "print(\"\\nScikit-learn Classification Report:\")\n",
        "print(classification_report(true_labels, predictions,\n",
        "                          target_names=['Low', 'Mid', 'High']))\n",
        "\n",
        "print(f\"\\nOverall Statistics:\")\n",
        "print(f\"Total Test Samples: {len(true_labels)}\")\n",
        "print(f\"Correct Predictions: {np.sum(predictions == true_labels)}\")\n",
        "print(f\"Incorrect Predictions: {np.sum(predictions != true_labels)}\")\n",
        "print(f\"Test Accuracy: {test_acc:.4f} ({test_acc*100:.2f}%)\")\n",
        "\n",
        "print(f\"\\nPer-class Statistics:\")\n",
        "for i, class_name in enumerate(class_names):\n",
        "    mask = true_labels == i\n",
        "    total = np.sum(mask)\n",
        "    correct = np.sum((predictions == true_labels) & mask)\n",
        "    print(f\"{class_name}: {correct}/{total} correct ({correct/total*100:.1f}%)\")"
      ]
    },
    {
      "cell_type": "code",
      "execution_count": null,
      "id": "a2fe4b50",
      "metadata": {
        "id": "a2fe4b50"
      },
      "outputs": [],
      "source": []
    }
  ],
  "metadata": {
    "kernelspec": {
      "display_name": "Python 3 (ipykernel)",
      "language": "python",
      "name": "python3"
    },
    "language_info": {
      "codemirror_mode": {
        "name": "ipython",
        "version": 3
      },
      "file_extension": ".py",
      "mimetype": "text/x-python",
      "name": "python",
      "nbconvert_exporter": "python",
      "pygments_lexer": "ipython3",
      "version": "3.12.4"
    },
    "colab": {
      "provenance": []
    }
  },
  "nbformat": 4,
  "nbformat_minor": 5
}